{
 "cells": [
  {
   "cell_type": "code",
   "execution_count": 1,
   "metadata": {},
   "outputs": [
    {
     "name": "stdout",
     "output_type": "stream",
     "text": [
      "hello\n"
     ]
    }
   ],
   "source": [
    "print(\"Hello world!\")"
   ]
  },
  {
   "cell_type": "code",
   "execution_count": 17,
   "metadata": {},
   "outputs": [
    {
     "name": "stdout",
     "output_type": "stream",
     "text": [
      "24\n"
     ]
    }
   ],
   "source": [
    "a= int(input(\"Enter the first number :\"))\n",
    "b= int(input(\"Enter the second number :\"))\n",
    "print(a+b)"
   ]
  },
  {
   "cell_type": "code",
   "execution_count": 18,
   "metadata": {},
   "outputs": [
    {
     "name": "stdout",
     "output_type": "stream",
     "text": [
      "The number is odd\n"
     ]
    }
   ],
   "source": [
    "a= int(input(\"Enter the number :\"))\n",
    "if a%2==0:\n",
    "    print(\"The number is even\");\n",
    "else:\n",
    "    print (\"The number is odd\")\n",
    "\n",
    " "
   ]
  },
  {
   "cell_type": "code",
   "execution_count": 3,
   "metadata": {},
   "outputs": [
    {
     "name": "stdout",
     "output_type": "stream",
     "text": [
      "1\n"
     ]
    }
   ],
   "source": [
    "a= int(input(\"Enter the first number :\"))\n",
    "b= int(input(\"Enter the second number :\"))\n",
    "c= int(input(\"Enter the third number :\"))\n",
    "if(a>=b and a>=c):\n",
    "    print(a);\n",
    "elif (b>=a and b>=c):\n",
    "    print(b);\n",
    "else:\n",
    "    print(c);\n"
   ]
  },
  {
   "cell_type": "code",
   "execution_count": 4,
   "metadata": {},
   "outputs": [
    {
     "name": "stdout",
     "output_type": "stream",
     "text": [
      "the given year is not a leap year\n"
     ]
    }
   ],
   "source": [
    "a= int(input(\"Enter the year :\"))\n",
    "if a%4==0:\n",
    "    print(\"The given year is leap year\");\n",
    "else:\n",
    "    print(\"the given year is not a leap year\")"
   ]
  },
  {
   "cell_type": "code",
   "execution_count": 6,
   "metadata": {},
   "outputs": [
    {
     "name": "stdout",
     "output_type": "stream",
     "text": [
      "1\n",
      "1\n",
      "2\n",
      "3\n",
      "5\n",
      "8\n",
      "13\n",
      "21\n"
     ]
    }
   ],
   "source": [
    "a= int(input(\"Enter the number of terms to be printed :\"))\n",
    "def fibb(n):\n",
    "    if n==0 or n==1:\n",
    "        return 1;\n",
    "    return (fibb(n-1)+fibb(n-2));\n",
    "for i in range(0,a+1):\n",
    "    print(fibb(i));"
   ]
  },
  {
   "cell_type": "code",
   "execution_count": 21,
   "metadata": {},
   "outputs": [
    {
     "name": "stdout",
     "output_type": "stream",
     "text": [
      "number is not prime\n"
     ]
    }
   ],
   "source": [
    "n= int(input(\"Enter the number :\"))\n",
    "flag= True\n",
    "for i in range(2,n):\n",
    "    if(n%i)==0:\n",
    "        flag=False\n",
    "        break;\n",
    "if flag== False:\n",
    "    print(\"number is not prime\");\n",
    "else:\n",
    "    print(\"number is prime\")\n"
   ]
  },
  {
   "cell_type": "code",
   "execution_count": 25,
   "metadata": {},
   "outputs": [
    {
     "name": "stdout",
     "output_type": "stream",
     "text": [
      "dcba\n"
     ]
    }
   ],
   "source": [
    "s= input(\"Enter the string :\")\n",
    "s1=\"\"\n",
    "for i in range(len(s)-1,-1,-1):\n",
    "    s1=s1+s[i]\n",
    "\n",
    "print(s1)\n"
   ]
  },
  {
   "cell_type": "code",
   "execution_count": 14,
   "metadata": {},
   "outputs": [
    {
     "name": "stdout",
     "output_type": "stream",
     "text": [
      "120\n"
     ]
    }
   ],
   "source": [
    "n= int(input(\"Enter the number :\"))\n",
    "fact=1\n",
    "for i in range(1,n+1):\n",
    "    fact=fact*i;\n",
    "print(fact)"
   ]
  },
  {
   "cell_type": "code",
   "execution_count": 16,
   "metadata": {},
   "outputs": [
    {
     "name": "stdout",
     "output_type": "stream",
     "text": [
      "True\n"
     ]
    }
   ],
   "source": [
    "s= input(\"Enter the string :\")\n",
    "s1=s[::-1]\n",
    "\n",
    "print(s==s1)"
   ]
  }
 ],
 "metadata": {
  "kernelspec": {
   "display_name": "Python 3",
   "language": "python",
   "name": "python3"
  },
  "language_info": {
   "codemirror_mode": {
    "name": "ipython",
    "version": 3
   },
   "file_extension": ".py",
   "mimetype": "text/x-python",
   "name": "python",
   "nbconvert_exporter": "python",
   "pygments_lexer": "ipython3",
   "version": "3.12.1"
  }
 },
 "nbformat": 4,
 "nbformat_minor": 2
}
